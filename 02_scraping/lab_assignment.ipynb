{
 "cells": [
  {
   "cell_type": "code",
   "execution_count": 14,
   "metadata": {},
   "outputs": [],
   "source": [
    "import numpy as np\n",
    "import matplotlib.pyplot as plt\n",
    "import pandas as pd\n",
    "import seaborn as sns\n",
    "\n",
    "from bs4 import BeautifulSoup as soup # HTML parser\n",
    "import requests # Page requests\n",
    "import re # Regular expressions\n",
    "import time # Time delays\n",
    "import random # Random numbers\n",
    "\n",
    "header = {'User-Agent': 'Mozilla/5.0 (Windows NT 10.0; Win64; x64; rv:124.0) Gecko/20100101 Firefox/124.0'} \n",
    "url = 'https://charlottesville.craigslist.org/search/vga?purveyor=owner#search=1~gallery~0~0' \n",
    "raw = requests.get(url,headers=header)\n",
    "\n",
    "brands = ['nintendo', 'xbox', 'sony', 'playstation']\n",
    "bsObj = soup(raw.content,'html.parser')\n",
    "listings = bsObj.find_all(class_=\"cl-static-search-result\") \n"
   ]
  },
  {
   "cell_type": "code",
   "execution_count": 33,
   "metadata": {},
   "outputs": [],
   "source": [
    "data = []\n",
    "for k in range (len(listings)):\n",
    "    title = listings[k].find(\"div\", class_=\"title\").get_text().lower()\n",
    "    price = listings[k].find(\"div\",class_ = \"price\").get_text()\n",
    "    link = listings[k].find(href=True)['href']\n",
    "\n",
    "    words = title.split()\n",
    "    hits = [word for word in words if word in brands]\n",
    "\n",
    "    if any(ps_version in title for ps_version in ['ps3', 'ps4', 'ps5', 'playstation 4', 'playstation 5']):\n",
    "        hits.append('playstation')\n",
    "\n",
    "    if len(hits) == 0:\n",
    "        brand = \"missing\"\n",
    "    else:\n",
    "        brand = hits[0]\n",
    "    data.append({'title':title,'price':price,'link':link,'brand':brand})\n",
    "    \n",
    "\n"
   ]
  },
  {
   "cell_type": "code",
   "execution_count": 34,
   "metadata": {},
   "outputs": [
    {
     "name": "stdout",
     "output_type": "stream",
     "text": [
      "(21, 4)\n"
     ]
    },
    {
     "data": {
      "text/html": [
       "<div>\n",
       "<style scoped>\n",
       "    .dataframe tbody tr th:only-of-type {\n",
       "        vertical-align: middle;\n",
       "    }\n",
       "\n",
       "    .dataframe tbody tr th {\n",
       "        vertical-align: top;\n",
       "    }\n",
       "\n",
       "    .dataframe thead th {\n",
       "        text-align: right;\n",
       "    }\n",
       "</style>\n",
       "<table border=\"1\" class=\"dataframe\">\n",
       "  <thead>\n",
       "    <tr style=\"text-align: right;\">\n",
       "      <th></th>\n",
       "      <th>title</th>\n",
       "      <th>price</th>\n",
       "      <th>link</th>\n",
       "      <th>brand</th>\n",
       "    </tr>\n",
       "  </thead>\n",
       "  <tbody>\n",
       "    <tr>\n",
       "      <th>0</th>\n",
       "      <td>nintendo switch games new games added!</td>\n",
       "      <td>10</td>\n",
       "      <td>https://charlottesville.craigslist.org/vgm/d/w...</td>\n",
       "      <td>nintendo</td>\n",
       "    </tr>\n",
       "    <tr>\n",
       "      <th>1</th>\n",
       "      <td>death stranding playstation 4 game new sealed</td>\n",
       "      <td>15</td>\n",
       "      <td>https://charlottesville.craigslist.org/vgm/d/s...</td>\n",
       "      <td>playstation</td>\n",
       "    </tr>\n",
       "    <tr>\n",
       "      <th>2</th>\n",
       "      <td>cod modern warfare 2 ps3 game call of duty mod...</td>\n",
       "      <td>5</td>\n",
       "      <td>https://charlottesville.craigslist.org/vgm/d/s...</td>\n",
       "      <td>playstation</td>\n",
       "    </tr>\n",
       "    <tr>\n",
       "      <th>3</th>\n",
       "      <td>lots of cheap playstation 4 games (some sealed...</td>\n",
       "      <td>10</td>\n",
       "      <td>https://charlottesville.craigslist.org/vgm/d/s...</td>\n",
       "      <td>playstation</td>\n",
       "    </tr>\n",
       "    <tr>\n",
       "      <th>4</th>\n",
       "      <td>► penguin wars ps4 rare game</td>\n",
       "      <td>20</td>\n",
       "      <td>https://charlottesville.craigslist.org/vgm/d/c...</td>\n",
       "      <td>playstation</td>\n",
       "    </tr>\n",
       "  </tbody>\n",
       "</table>\n",
       "</div>"
      ],
      "text/plain": [
       "                                               title  price  \\\n",
       "0             nintendo switch games new games added!     10   \n",
       "1      death stranding playstation 4 game new sealed     15   \n",
       "2  cod modern warfare 2 ps3 game call of duty mod...      5   \n",
       "3  lots of cheap playstation 4 games (some sealed...     10   \n",
       "4                       ► penguin wars ps4 rare game     20   \n",
       "\n",
       "                                                link        brand  \n",
       "0  https://charlottesville.craigslist.org/vgm/d/w...     nintendo  \n",
       "1  https://charlottesville.craigslist.org/vgm/d/s...  playstation  \n",
       "2  https://charlottesville.craigslist.org/vgm/d/s...  playstation  \n",
       "3  https://charlottesville.craigslist.org/vgm/d/s...  playstation  \n",
       "4  https://charlottesville.craigslist.org/vgm/d/c...  playstation  "
      ]
     },
     "execution_count": 34,
     "metadata": {},
     "output_type": "execute_result"
    }
   ],
   "source": [
    "df = pd.DataFrame.from_dict(data)\n",
    "df['price'] = df['price'].str.replace('$','')\n",
    "df['price'] = df['price'].str.replace(',','')\n",
    "df['price'] = pd.to_numeric(df['price'],errors='coerce')\n",
    "print(df.shape)\n",
    "df.to_csv('video_game.csv')\n",
    "df.head()"
   ]
  },
  {
   "cell_type": "code",
   "execution_count": 35,
   "metadata": {},
   "outputs": [
    {
     "name": "stdout",
     "output_type": "stream",
     "text": [
      "count      21.000000\n",
      "mean      144.190476\n",
      "std       324.559951\n",
      "min         5.000000\n",
      "25%        10.000000\n",
      "50%        35.000000\n",
      "75%       125.000000\n",
      "max      1500.000000\n",
      "Name: price, dtype: float64\n"
     ]
    },
    {
     "data": {
      "image/png": "[encoded data removed]",
      "text/plain": [
       "<Figure size 640x480 with 1 Axes>"
      ]
     },
     "metadata": {},
     "output_type": "display_data"
    }
   ],
   "source": [
    "print(df['price'].describe())\n",
    "df['price'].hist(grid=False)\n",
    "plt.show()"
   ]
  },
  {
   "cell_type": "code",
   "execution_count": 38,
   "metadata": {},
   "outputs": [
    {
     "name": "stdout",
     "output_type": "stream",
     "text": [
      "count     20.000000\n",
      "mean      76.400000\n",
      "std       96.423627\n",
      "min        5.000000\n",
      "25%       10.000000\n",
      "50%       27.500000\n",
      "75%      121.250000\n",
      "max      400.000000\n",
      "Name: price, dtype: float64\n"
     ]
    },
    {
     "data": {
      "text/plain": [
       "<Axes: >"
      ]
     },
     "execution_count": 38,
     "metadata": {},
     "output_type": "execute_result"
    },
    {
     "data": {
      "image/png": "[encoded data removed]",
      "text/plain": [
       "<Figure size 640x480 with 1 Axes>"
      ]
     },
     "metadata": {},
     "output_type": "display_data"
    }
   ],
   "source": [
    "df.loc[:,['price','brand']].groupby('brand').describe()\n",
    "\n",
    "# remove the outlier\n",
    "\n",
    "df_filterd = df[df['brand'] != 'missing']\n",
    "df_filterd.loc[:,['price','brand']].groupby('brand').describe()\n",
    "\n",
    "print(df_filterd['price'].describe())\n",
    "df_filterd['price'].hist(grid=False)"
   ]
  },
  {
   "cell_type": "markdown",
   "metadata": {},
   "source": [
    "In this lab, I tried web scraping using video gaming content. The content that I derived from this web includes pricew brands, and links. After that, I ploted the histogram according to prices and I realized that there is one value that is way higher than the other, which I assume as the outlier, so I removed that and achieved a better plot."
   ]
  }
 ],
 "metadata": {
  "kernelspec": {
   "display_name": "torch",
   "language": "python",
   "name": "python3"
  },
  "language_info": {
   "codemirror_mode": {
    "name": "ipython",
    "version": 3
   },
   "file_extension": ".py",
   "mimetype": "text/x-python",
   "name": "python",
   "nbconvert_exporter": "python",
   "pygments_lexer": "ipython3",
   "version": "3.11.8"
  }
 },
 "nbformat": 4,
 "nbformat_minor": 2
}
